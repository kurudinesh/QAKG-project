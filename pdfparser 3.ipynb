{
 "cells": [
  {
   "cell_type": "code",
   "execution_count": 5,
   "id": "placed-tobacco",
   "metadata": {},
   "outputs": [],
   "source": [
    "from pdfminer.high_level import extract_pages\n",
    "from pdfminer.layout import LTTextContainer\n",
    "from pdfminer.layout import LTCurve, LTLine, LTTextContainer, LTChar, LTRect\n",
    "from pdfminer.high_level import extract_text_to_fp\n",
    "import pandas as pd\n",
    "import math\n",
    "import numpy as np"
   ]
  },
  {
   "cell_type": "code",
   "execution_count": 6,
   "id": "intense-priority",
   "metadata": {},
   "outputs": [],
   "source": [
    "b = []\n",
    "for p in extract_pages(\"all.pdf\"):\n",
    "    b.append(p)"
   ]
  },
  {
   "cell_type": "code",
   "execution_count": 7,
   "id": "palestinian-teach",
   "metadata": {},
   "outputs": [
    {
     "name": "stdout",
     "output_type": "stream",
     "text": [
      "Printed by Dinesh KURUBA on 12/5/2021 1:32:46 PM. For personal use only. Not approved for distribution. Copyright © 2021 National Comprehensive Cancer Network, Inc., All Rights Reserved.\n",
      "\n",
      "NCCN Guidelines Version 2.2021\n",
      "Acute Lymphoblastic Leukemia\n",
      "\n",
      "NCCN Guidelines Index\n",
      "Table of Contents\n",
      "Discussion\n",
      "\n",
      "MINIMAL/MEASURABLE RESIDUAL DISEASE ASSESSMENT \n",
      "\n",
      "• The preferred sample for MRD assessment is the first small volume (of up to 3 mL) pull of the bone marrow aspirate, if feasible.\n",
      "• MRD in ALL refers to the presence of leukemic cells below the threshold of detection by conventional morphologic methods. Patients who \n",
      "\n",
      "achieved a CR by morphologic assessment alone can potentially harbor a large number of leukemic cells in the bone marrow. \n",
      "\n",
      "• MRD is an essential component of patient evaluation over the course of sequential therapy. If validated MRD assessment technology with \n",
      "\n",
      "appropriate sensitivity (at least 10-4) is not available locally, there are commercially available tests.\n",
      "\n",
      "• Studies in both children and adults with ALL have demonstrated the strong correlation between MRD and risks for relapse, as well as the \n",
      "\n",
      "prognostic significance of MRD measurements during and after initial induction therapy.1\n",
      "\n",
      "• The most frequently employed methods for MRD assessment include at least 6-color flow cytometry assays2,3 specifically designed to \n",
      "\n",
      "detect abnormal MRD immunophenotypes, real-time quantitative polymerase chain reaction (RQ-PCR) assays to detect fusion genes (eg, \n",
      "BCR-ABL1), and NGS-based assays, to detect clonal rearrangements in immunoglobulin (Ig) heavy chain genes and/or T-cell receptor (TCR) \n",
      "genes. \n",
      "\n",
      "• Current 6-color flow cytometry can detect leukemic cells at a sensitivity threshold of <1 × 10-4 (<0.01%) bone marrow mononuclear cells \n",
      "\n",
      "(MNCs).2,3 PCR/NGS methods can detect leukemic cells at a sensitivity threshold of <1 x 10-6 (<0.0001%) bone MNCs.4,5 The concordance \n",
      "rate for detecting MRD between these methods is generally high. Methods not achieving these sensitivity levels are not suitable.\n",
      "\u0017For flow cytometric analysis of MRD, notify lab performing the MRD assessment if immunotherapy (such as rituximab, blinatumomab, \n",
      "\n",
      "inotuzumab ozogamicin, or tisagenlecleucel) has been used.\n",
      "\n",
      "\u0017Timing of MRD assessment: \n",
      "\n",
      " ◊ Upon completion of initial induction. \n",
      " ◊ Additional time points should be guided by the regimen used.\n",
      " ◊ Serial monitoring frequency may be increased in patients with molecular relapse or persistent low-level disease burden.\n",
      " ◊ For some techniques, a baseline sample may be needed or helpful for the MRD assessment to be valid.\n",
      "\n",
      "1 Berry DA, Zhou S, Higley H, et al. Association of minimal residual disease with clinical outcome in pediatric and adult lymphoblastic leukemia. JAMA Oncol \n",
      "2017;3:e170580.\n",
      "2 Gaipa G, Cazzaniga G, Valsecchi MG, et al. Time point-dependent concordance of flow cytometry and real-time quantitative polymerase chain reaction for minimal \n",
      "residual disease detection in childhood acute lymphoblastic leukemia. Haematologica 2012;97(10):1582-1593. \n",
      "3 Denys B, van der Sluijs-Gelling AJ, Homburg C, et al. Improved flow cytometric detection of minimal residual disease in childhood acute lymphoblastic leukemia. \n",
      "Leukemia 2013;27:635-641.\n",
      "4 Bruggemann M, Schrauder A, Raff T, et al. Standardized MRD quantification in European ALL trials: proceedings of the Second International Symposium on MRD \n",
      "assessment in Kiel, Germany, 18-20 September 2008. Leukemia 2010;24:521-535.\n",
      "5 Campana D. Minimal residual disease in acute lymphoblastic leukemia. Hematology Am Soc Hematol Educ Program 2010;2010:7-12.\n",
      "\n",
      "Version 2.2021, 07/19/2021 © 2021 National Comprehensive Cancer Network® (NCCN®), All rights reserved. NCCN Guidelines® and this illustration may not be reproduced in any form without the express written permission of NCCN.\n",
      "\n",
      "ALL-F\n",
      "\n"
     ]
    }
   ],
   "source": [
    "textboxes = pd.DataFrame(columns=['element','type','leftmargin','verleftline','verrightline','lines','statename','nextsubstate','nextstate'])\n",
    "lines = pd.DataFrame(columns=['element','tailHorEle','headHorEle','headcurve'])\n",
    "curves = pd.DataFrame(columns=['element','type','headcurve'])\n",
    "rects = pd.DataFrame(columns=['element'])\n",
    "txtbxlist = []\n",
    "linelist  = []\n",
    "curvelist = []\n",
    "rectlist = []\n",
    "for element in b[39]:\n",
    "#         print(element)\n",
    "        if isinstance(element, LTTextContainer):\n",
    "#             print(element)\n",
    "            print(element.get_text())\n",
    "            txtbxlist.append(element)\n",
    "        elif isinstance(element, LTLine): \n",
    "            linelist.append(element)\n",
    "        elif isinstance(element, LTRect):\n",
    "            rectlist.append(element)\n",
    "        elif isinstance(element, LTCurve):\n",
    "            curvelist.append(element)\n",
    "textboxes['element'] = txtbxlist\n",
    "lines['element'] = linelist\n",
    "curves['element'] = curvelist\n",
    "rects['element'] = rectlist"
   ]
  },
  {
   "cell_type": "code",
   "execution_count": 8,
   "id": "naked-hardware",
   "metadata": {},
   "outputs": [
    {
     "name": "stdout",
     "output_type": "stream",
     "text": [
      "<LTTextBoxHorizontal(0) 15.000,600.551,616.573,607.551 'Printed by Dinesh KURUBA on 12/5/2021 1:32:46 PM. For personal use only. Not approved for distribution. Copyright © 2021 National Comprehensive Cancer Network, Inc., All Rights Reserved.\\n'>\n",
      "<LTTextBoxHorizontal(1) 186.617,542.950,465.716,582.550 'NCCN Guidelines Version 2.2021\\nAcute Lymphoblastic Leukemia\\n'>\n",
      "<LTTextBoxHorizontal(2) 651.683,546.291,768.448,583.691 'NCCN Guidelines Index\\nTable of Contents\\nDiscussion\\n'>\n",
      "<LTTextBoxHorizontal(3) 229.781,510.216,565.391,521.216 'MINIMAL/MEASURABLE RESIDUAL DISEASE ASSESSMENT \\n'>\n",
      "<LTTextBoxHorizontal(4) 23.542,478.140,756.003,501.141 '• The preferred sample for MRD assessment is the first small volume (of up to 3 mL) pull of the bone marrow aspirate, if feasible.\\n• MRD in ALL refers to the presence of leukemic cells below the threshold of detection by conventional morphologic methods. Patients who \\n'>\n",
      "<LTTextBoxHorizontal(5) 30.747,466.139,690.530,477.139 'achieved a CR by morphologic assessment alone can potentially harbor a large number of leukemic cells in the bone marrow. \\n'>\n",
      "<LTTextBoxHorizontal(6) 23.542,454.138,751.521,465.138 '• MRD is an essential component of patient evaluation over the course of sequential therapy. If validated MRD assessment technology with \\n'>\n",
      "<LTTextBoxHorizontal(7) 30.747,442.136,543.080,453.936 'appropriate sensitivity (at least 10-4) is not available locally, there are commercially available tests.\\n'>\n",
      "<LTTextBoxHorizontal(8) 23.546,430.135,749.275,441.135 '• Studies in both children and adults with ALL have demonstrated the strong correlation between MRD and risks for relapse, as well as the \\n'>\n",
      "<LTTextBoxHorizontal(9) 30.751,418.134,497.604,431.888 'prognostic significance of MRD measurements during and after initial induction therapy.1\\n'>\n",
      "<LTTextBoxHorizontal(10) 23.545,406.136,736.174,419.888 '• The most frequently employed methods for MRD assessment include at least 6-color flow cytometry assays2,3 specifically designed to \\n'>\n",
      "<LTTextBoxHorizontal(11) 30.744,370.133,764.833,405.135 'detect abnormal MRD immunophenotypes, real-time quantitative polymerase chain reaction (RQ-PCR) assays to detect fusion genes (eg, \\nBCR-ABL1), and NGS-based assays, to detect clonal rearrangements in immunoglobulin (Ig) heavy chain genes and/or T-cell receptor (TCR) \\ngenes. \\n'>\n",
      "<LTTextBoxHorizontal(12) 23.539,358.132,740.091,369.936 '• Current 6-color flow cytometry can detect leukemic cells at a sensitivity threshold of <1 × 10-4 (<0.01%) bone marrow mononuclear cells \\n'>\n",
      "<LTTextBoxHorizontal(13) 27.147,322.134,749.792,359.888 '(MNCs).2,3 PCR/NGS methods can detect leukemic cells at a sensitivity threshold of <1 x 10-6 (<0.0001%) bone MNCs.4,5 The concordance \\nrate for detecting MRD between these methods is generally high. Methods not achieving these sensitivity levels are not suitable.\\n\\x17For flow cytometric analysis of MRD, notify lab performing the MRD assessment if immunotherapy (such as rituximab, blinatumomab, \\n'>\n",
      "<LTTextBoxHorizontal(14) 37.949,310.133,354.595,321.133 'inotuzumab ozogamicin, or tisagenlecleucel) has been used.\\n'>\n",
      "<LTTextBoxHorizontal(15) 27.147,298.132,188.305,311.068 '\\x17Timing of MRD assessment: \\n'>\n",
      "<LTTextBoxHorizontal(16) 41.546,250.128,677.258,298.847 ' ◊ Upon completion of initial induction. \\n ◊ Additional time points should be guided by the regimen used.\\n ◊ Serial monitoring frequency may be increased in patients with molecular relapse or persistent low-level disease burden.\\n ◊ For some techniques, a baseline sample may be needed or helpful for the MRD assessment to be valid.\\n'>\n",
      "<LTTextBoxHorizontal(17) 23.761,72.206,750.179,171.856 '1 Berry DA, Zhou S, Higley H, et al. Association of minimal residual disease with clinical outcome in pediatric and adult lymphoblastic leukemia. JAMA Oncol \\n2017;3:e170580.\\n2 Gaipa G, Cazzaniga G, Valsecchi MG, et al. Time point-dependent concordance of flow cytometry and real-time quantitative polymerase chain reaction for minimal \\nresidual disease detection in childhood acute lymphoblastic leukemia. Haematologica 2012;97(10):1582-1593. \\n3 Denys B, van der Sluijs-Gelling AJ, Homburg C, et al. Improved flow cytometric detection of minimal residual disease in childhood acute lymphoblastic leukemia. \\nLeukemia 2013;27:635-641.\\n4 Bruggemann M, Schrauder A, Raff T, et al. Standardized MRD quantification in European ALL trials: proceedings of the Second International Symposium on MRD \\nassessment in Kiel, Germany, 18-20 September 2008. Leukemia 2010;24:521-535.\\n5 Campana D. Minimal residual disease in acute lymphoblastic leukemia. Hematology Am Soc Hematol Educ Program 2010;2010:7-12.\\n'>\n",
      "<LTTextBoxHorizontal(18) 23.544,17.226,639.191,23.535 'Version 2.2021, 07/19/2021 © 2021 National Comprehensive Cancer Network® (NCCN®), All rights reserved. NCCN Guidelines® and this illustration may not be reproduced in any form without the express written permission of NCCN.\\n'>\n",
      "<LTTextBoxHorizontal(19) 735.338,19.408,768.269,30.408 'ALL-F\\n'>\n"
     ]
    }
   ],
   "source": [
    "for i,txt in textboxes.iterrows():\n",
    "    print(txt.element)"
   ]
  },
  {
   "cell_type": "code",
   "execution_count": null,
   "id": "scheduled-screen",
   "metadata": {},
   "outputs": [],
   "source": []
  }
 ],
 "metadata": {
  "kernelspec": {
   "display_name": "Python 3",
   "language": "python",
   "name": "python3"
  },
  "language_info": {
   "codemirror_mode": {
    "name": "ipython",
    "version": 3
   },
   "file_extension": ".py",
   "mimetype": "text/x-python",
   "name": "python",
   "nbconvert_exporter": "python",
   "pygments_lexer": "ipython3",
   "version": "3.7.1"
  }
 },
 "nbformat": 4,
 "nbformat_minor": 5
}
