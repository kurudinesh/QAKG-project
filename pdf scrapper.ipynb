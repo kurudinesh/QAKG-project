{
 "cells": [
  {
   "cell_type": "code",
   "execution_count": 2,
   "id": "neither-graph",
   "metadata": {},
   "outputs": [
    {
     "name": "stdout",
     "output_type": "stream",
     "text": [
      "Collecting PyPDF2\n",
      "  Downloading PyPDF2-1.26.0.tar.gz (77 kB)\n",
      "Building wheels for collected packages: PyPDF2\n",
      "  Building wheel for PyPDF2 (setup.py): started\n",
      "  Building wheel for PyPDF2 (setup.py): finished with status 'done'\n",
      "  Created wheel for PyPDF2: filename=PyPDF2-1.26.0-py3-none-any.whl size=61085 sha256=301671fc7eefc9759d0c0a92d2ade15a08cbcf5aa686d65b0ab9cf4af3e691bb\n",
      "  Stored in directory: c:\\users\\kurud\\appdata\\local\\pip\\cache\\wheels\\80\\1a\\24\\648467ade3a77ed20f35cfd2badd32134e96dd25ca811e64b3\n",
      "Successfully built PyPDF2\n",
      "Installing collected packages: PyPDF2\n",
      "Successfully installed PyPDF2-1.26.0\n"
     ]
    }
   ],
   "source": [
    "!pip install PyPDF2"
   ]
  },
  {
   "cell_type": "code",
   "execution_count": 1,
   "id": "preliminary-shannon",
   "metadata": {},
   "outputs": [],
   "source": [
    "import requests\n",
    "from bs4 import BeautifulSoup\n",
    "import io\n",
    "from PyPDF2 import PdfFileReader"
   ]
  },
  {
   "cell_type": "code",
   "execution_count": 21,
   "id": "raising-islam",
   "metadata": {},
   "outputs": [],
   "source": [
    "url = \"https://www.nccn.org/guidelines/category_1\"\n",
    "read = requests.get(url)\n",
    "html_content = read.content\n",
    "soup = BeautifulSoup(html_content, \"html.parser\")\n"
   ]
  },
  {
   "cell_type": "code",
   "execution_count": 31,
   "id": "failing-astronomy",
   "metadata": {},
   "outputs": [],
   "source": [
    "list_of_pdf = set()\n",
    "l = soup.find( class_ = 'row guideline-items')\n",
    "p = l.find_all('a')"
   ]
  },
  {
   "cell_type": "code",
   "execution_count": 41,
   "id": "improved-singer",
   "metadata": {},
   "outputs": [],
   "source": [
    "head = 'https://www.nccn.org'"
   ]
  },
  {
   "cell_type": "code",
   "execution_count": 42,
   "id": "corresponding-longitude",
   "metadata": {
    "scrolled": false
   },
   "outputs": [
    {
     "data": {
      "text/plain": [
       "'/guidelines/nccn-guidelines/guidelines-detail?category=1&id=1410'"
      ]
     },
     "execution_count": 42,
     "metadata": {},
     "output_type": "execute_result"
    }
   ],
   "source": [
    "# soup.prettify\n",
    "p[0].get('href')"
   ]
  },
  {
   "cell_type": "code",
   "execution_count": 47,
   "id": "skilled-restoration",
   "metadata": {},
   "outputs": [],
   "source": [
    "url = head + p[0].get('href')\n",
    "read = requests.get(url)\n",
    "html_content = read.content\n",
    "soup = BeautifulSoup(html_content, \"html.parser\")\n",
    "list_of_pdf = set()\n",
    "l = soup.find( class_ = 'linksListWrapper')\n",
    "pdflinks = l.find_all('a')"
   ]
  },
  {
   "cell_type": "code",
   "execution_count": 66,
   "id": "specialized-machine",
   "metadata": {},
   "outputs": [
    {
     "data": {
      "text/plain": [
       "['https://www.nccn.org/professionals/physician_gls/pdf/all.pdf',\n",
       " 'https://www.nccn.org/professionals/physician_gls/pdf/all_blocks.pdf',\n",
       " 'https://www.nccn.org/professionals/physician_gls/pdf/all_basic.pdf',\n",
       " 'https://www.nccn.org/professionals/physician_gls/pdf/all_core.pdf',\n",
       " 'https://www.nccn.org/professionals/physician_gls/pdf/all_enhanced.pdf',\n",
       " 'https://www.nccn.org/patients/guidelines/content/PDF/all-patient.pdf',\n",
       " 'https://www.nccn.org/patients/guidelines/content/PDF/all-RU-patient-guideline.pdf',\n",
       " 'https://www.nccn.org/professionals/physician_gls/pdf/all-french.pdf',\n",
       " 'https://www.nccn.org/professionals/physician_gls/pdf/all-italian.pdf',\n",
       " 'https://www.nccn.org/professionals/physician_gls/pdf/all-japanese.pdf',\n",
       " 'https://www.nccn.org/professionals/physician_gls/pdf/all-spanish.pdf',\n",
       " 'https://www.nccn.org/professionals/physician_gls/pdf/all_harmonized-africa.pdf']"
      ]
     },
     "execution_count": 66,
     "metadata": {},
     "output_type": "execute_result"
    }
   ],
   "source": [
    "list_of_pdf = []\n",
    "for link in (pdflinks):\n",
    "    pdf_link = link.get('href')\n",
    "    if pdf_link is not None and pdf_link[-3:]=='pdf':\n",
    "        list_of_pdf.append(head+pdf_link)\n",
    "list_of_pdf"
   ]
  },
  {
   "cell_type": "code",
   "execution_count": 67,
   "id": "young-exploration",
   "metadata": {},
   "outputs": [
    {
     "name": "stdout",
     "output_type": "stream",
     "text": [
      "Help on function get in module requests.api:\n",
      "\n",
      "get(url, params=None, **kwargs)\n",
      "    Sends a GET request.\n",
      "    \n",
      "    :param url: URL for the new :class:`Request` object.\n",
      "    :param params: (optional) Dictionary, list of tuples or bytes to send\n",
      "        in the query string for the :class:`Request`.\n",
      "    :param \\*\\*kwargs: Optional arguments that ``request`` takes.\n",
      "    :return: :class:`Response <Response>` object\n",
      "    :rtype: requests.Response\n",
      "\n"
     ]
    }
   ],
   "source": [
    "help(requests.get)"
   ]
  },
  {
   "cell_type": "code",
   "execution_count": 73,
   "id": "stable-webcam",
   "metadata": {},
   "outputs": [],
   "source": [
    "r1 = requests.get('https://www.nccn.org/login/Index/', auth = HTTPBasicAuth('kurudinesh@gmail.com', 'Shivababa@1'))"
   ]
  },
  {
   "cell_type": "code",
   "execution_count": 77,
   "id": "outer-holiday",
   "metadata": {},
   "outputs": [
    {
     "data": {
      "text/plain": [
       "{'Cache-Control': 'no-cache', 'Pragma': 'no-cache', 'Content-Type': 'text/html; charset=utf-8', 'Expires': '-1', 'Server': 'Microsoft-IIS/10.0', 'X-AspNet-Version': '4.0.30319', 'Content-Security-Policy': \"default-src 'self'; script-src 'self' 'unsafe-inline' 'unsafe-eval' *.googleapis.com *.gstatic.com *.googletagmanager.com *.googletagservices.com www.google.com *.google-analytics.com  apis.google.com connect.facebook.net ajax.aspnetcdn.com https://adservice.google.com https://tpc.googlesyndication.com https://www.youtube.com/iframe_api platform.twitter.com https://syndication.twitter.com/ https://s.ytimg.com https://publish.twitter.com *.twimg.com platform.linkedin.com http://platform.stumbleupon.com/1/widgets.js https://cdn.insight.sitefinity.com https://dec.azureedge.net/ munchkin.marketo.net *.eloqua.com js.hs-scripts.com js.hs-analytics.net *.en25.com cdn.ampproject.org https://securepubads.g.doubleclick.net https://assets.adobedtm.com https://rumiview.com/ https://i.simpli.fi/ https://www.rumiview.com/; style-src 'self' 'unsafe-inline' *.googleapis.com *.gstatic.com netdna.bootstrapcdn.com kendo.cdn.telerik.com www.google.com https://cdn.insight.sitefinity.com https://dec.azureedge.net platform.twitter.com/css/ *.twimg.com; font-src 'self' fonts.gstatic.com kendo.cdn.telerik.com netdna.bootstrapcdn.com data:; img-src 'self' *.gstatic.com *.googleapis.com *.google-analytics.com platform.tumblr.com web.facebook.com www.facebook.com https://delicious.com www.redditstatic.com www.linkedin.com https://syndication.twitter.com https://static.licdn.com/scds/common/u/images/apps/connect/sprites/sprite_connect_v14.png https://dec.azureedge.net https://*.insight.sitefinity.com https://*.dec.sitefinity.com pbs.twimg.com platform.twitter.com/css/ *.twimg.com data: blob: *.eloqua.com track.hubspot.com *.google.com https://stats.g.doubleclick.net https://tpc.googlesyndication.com https://pagead2.googlesyndication.com https://googleads.g.doubleclick.net https://www.rumiview.com/; media-src 'self' data: blob:; frame-src 'self' https://www.google.com/ *.safeframe.googlesyndication.com https://tpc.googlesyndication.com https://9066869.fls.doubleclick.net/ https://www.youtube.com/; child-src 'self' https://platform.twitter.com/ https://syndication.twitter.com/ https://www.youtube.com/ https://player.vimeo.com/ https://w.soundcloud.com/ apis.google.com accounts.google.com staticxx.facebook.com www.facebook.com web.facebook.com badge.stumbleupon.com; connect-src 'self' accounts.google.com https://*.insight.sitefinity.com https://*.dec.sitefinity.com *.mktoresp.com https://securepubads.g.doubleclick.net *.google-analytics.com https://pagead2.googlesyndication.com;\", 'Referrer-Policy': 'no-referrer-when-downgrade', 'Strict-Transport-Security': 'max-age=31536000; includeSubDomains', 'X-Content-Type-Options': 'nosniff', 'X-Frame-Options': 'SAMEORIGIN', 'X-XSS-Protection': '1; mode=block', 'Set-Cookie': 'ASP.NET_SessionId=lovhsk5iijsot2yy23joa5re; path=/; secure; HttpOnly; SameSite=Lax', 'X-Powered-By': 'ASP.NET', 'Date': 'Sun, 05 Dec 2021 17:43:00 GMT', 'Content-Length': '84692'}"
      ]
     },
     "execution_count": 77,
     "metadata": {},
     "output_type": "execute_result"
    }
   ],
   "source": [
    "r1.headers"
   ]
  },
  {
   "cell_type": "code",
   "execution_count": 18,
   "id": "competitive-central",
   "metadata": {},
   "outputs": [],
   "source": [
    "import requests\n",
    "\n",
    "url = \"https://www.nccn.org/professionals/physician_gls/pdf/all.pdf\"\n",
    "\n",
    "# payload={}\n",
    "# files=[\n",
    "#   ('file',('IMG_1126 - Copy.jpg',open('/C:/Users/kurud/Pictures/IMG_1126 - Copy.jpg','rb'),'image/jpeg'))\n",
    "# ]\n",
    "headers = {\n",
    "  'Content-type': 'multipart/form-data',\n",
    "  'Cookie': 'ASP.NET_SessionId=lovhsk5iijsot2yy23joa5re; ReturnUrl=https://www.nccn.org/professionals/physician_gls/pdf/all.pdf; __utma=229175043.1835352591.1638725258.1638725258.1638725258.1; __utmc=229175043; __utmz=229175043.1638725258.1.1.utmcsr=(direct)|utmccn=(direct)|utmcmd=(none); __utmt=1; __utmb=229175043.1.10.1638725258; _ga=GA1.1.2118192740.1638725258; _gcl_au=1.1.210967572.1638725258; sf-prs-ss=637743220601930000; sf-prs-lu=https://www.nccn.org/login?ReturnURL=https://www.nccn.org/professionals/physician_gls/pdf/all.pdf; stg_traffic_source_priority=1; stg_externalReferrer=; _pk_id.fe43d2d5-f204-453d-89b5-d0eaae835639.5f51=721844771da5931d.1638725263.1.1638725263.1638725263.; _pk_ses.fe43d2d5-f204-453d-89b5-d0eaae835639.5f51=*; _ga_M17RCDNCCD=GS1.1.1638725258.1.1.1638725441.0; stg_last_interaction=Sun, 05 Dec 2021 17:31:30 GMT; stg_returning_visitor=Sun, 05 Dec 2021 17:31:30 GMT; IsNCCNUser=False; ExternalCookie_kurudinesh@gmail.com=isreturnedmail=False&iseulaexpired=False&customerguid=32157777-9b07-4018-9ef9-75e3cc29dff7&sessionguid=f9027a79-e1ee-40af-920f-674610a00693&customerid=3455850; username=kurudinesh@gmail.com; isreturnedmail=False; iseulaexpired=False; customerguid=32157777-9b07-4018-9ef9-75e3cc29dff7; sessionguid=114de91e-04ed-4376-9bd7-36b9a2803104; customerid=3455850; IsCustomerOfMemInst=False; IsCOIMember=False; IsBoardMember=False; IsBestPractices=False; IsProductsServices=False; IsBoardMemberAdmin=False; SF-TokenId=0d6830f0-6df5-4e68-be6b-5a4a48b8d853; .AspNet.Cookies=g_bmevy8YpAzLnFA7MGPLvWAgrptCBfineCgSj3UW5MZG7bs0v39xvqqFtwvh6CgVyhsTlI9HfpNqRfsY1DB586DSMCX68aGq7075GV_o4msK13b8eOtVLGD0Iml3OsU6jpZJlE0ILKFj4lxFtgCTApnGVfPGeMqUQgfSjh8RmcHyvKG5dNlpalRwlz0-yZ1obDU0EaA21mgRXVCbUfrUiIxADAdp-EhuG1-aQSYd-FcPjYmhUrE2HvOZFCANO96HW_jR5Pn_rEQTSFEn8_-wjwSMEjC1ih0GtyLJtvfnykrSFUcHOpgAL1LSDGWqaZrhJtMMA75jg2sDqWTsTAPqEn7UKFJlrLohtfxdBN_sMLLA7-Q9kSQbqn6AZweUADg14dVvVSf18Fy9uz-UpDEb6x5HiuHFO16xaK7BhxLWIFuHxRTm1hoItLNnj0HZCCY_2xqsZcboObROLY8d7z2tpwg6oD-ZLdWQneX-t0Vz1eE72edRmxlM59Aw64mXViqENQy3gNxmzrkGdmrpu8l0zYLrKiKWpdtbS_mhCGUWt5uWb4UT8XmgJpTmFA65dpRDWzdhiV1oQBqLEITxGL6mlN80ZnoMjMUehB9EJFtBj50qzNzA25zo7vAIhD5-KVQVPMZlHzkx8NVqIHZsqcYwIwh8o25NJPzBV0akrHqbI0AqLvLD6yUL7DO9BD8GyZt; ASP.NET_SessionId=a51xveifqekrpcjvpithw3zp; ReturnUrl=https://www.nccn.org/professionals/physician_gls/pdf/all.pdf'\n",
    "}\n",
    "\n",
    "response = requests.request(\"GET\", url, headers=headers)\n",
    "\n",
    "# print(response.text)\n"
   ]
  },
  {
   "cell_type": "code",
   "execution_count": 27,
   "id": "damaged-directive",
   "metadata": {},
   "outputs": [
    {
     "name": "stdout",
     "output_type": "stream",
     "text": [
      "\n",
      "    Information about https://www.nccn.org/professionals/physician_gls/pdf/all.pdf:\n",
      "\n",
      "   \n",
      "    Number of pages: 133\n",
      "    \n",
      "\n",
      "    Information about https://www.nccn.org/professionals/physician_gls/pdf/all_blocks.pdf:\n",
      "\n",
      "   \n",
      "    Number of pages: 136\n",
      "    \n",
      "\n",
      "    Information about https://www.nccn.org/professionals/physician_gls/pdf/all_basic.pdf:\n",
      "\n",
      "   \n",
      "    Number of pages: 121\n",
      "    \n",
      "\n",
      "    Information about https://www.nccn.org/professionals/physician_gls/pdf/all_core.pdf:\n",
      "\n",
      "   \n",
      "    Number of pages: 122\n",
      "    \n",
      "\n",
      "    Information about https://www.nccn.org/professionals/physician_gls/pdf/all_enhanced.pdf:\n",
      "\n",
      "   \n",
      "    Number of pages: 120\n",
      "    \n",
      "\n",
      "    Information about https://www.nccn.org/patients/guidelines/content/PDF/all-patient.pdf:\n",
      "\n",
      "   \n",
      "    Number of pages: 90\n",
      "    \n",
      "\n",
      "    Information about https://www.nccn.org/patients/guidelines/content/PDF/all-RU-patient-guideline.pdf:\n",
      "\n",
      "   \n",
      "    Number of pages: 90\n",
      "    \n",
      "\n",
      "    Information about https://www.nccn.org/professionals/physician_gls/pdf/all-french.pdf:\n",
      "\n",
      "   \n",
      "    Number of pages: 143\n",
      "    \n",
      "\n",
      "    Information about https://www.nccn.org/professionals/physician_gls/pdf/all-italian.pdf:\n",
      "\n",
      "   \n",
      "    Number of pages: 138\n",
      "    \n",
      "\n",
      "    Information about https://www.nccn.org/professionals/physician_gls/pdf/all-japanese.pdf:\n",
      "\n",
      "   \n",
      "    Number of pages: 96\n",
      "    \n",
      "\n",
      "    Information about https://www.nccn.org/professionals/physician_gls/pdf/all-spanish.pdf:\n",
      "\n",
      "   \n",
      "    Number of pages: 144\n",
      "    \n",
      "\n",
      "    Information about https://www.nccn.org/professionals/physician_gls/pdf/all_harmonized-africa.pdf:\n",
      "\n",
      "   \n",
      "    Number of pages: 116\n",
      "    \n"
     ]
    }
   ],
   "source": [
    "from requests.auth import HTTPBasicAuth\n",
    "def info(pdf_path):\n",
    "    response = requests.request(\"GET\",pdf_path, headers=headers)\n",
    "#     print(response.content)\n",
    "    fileName = pdf_path.split('/')[-1]\n",
    "    \n",
    "    with open(fileName, \"wb\") as file:\n",
    "        file.write(response.content)\n",
    "    \n",
    "    with io.BytesIO(response.content) as f:\n",
    "        pdf = PdfFileReader(f)\n",
    "#         information = pdf.getDocumentInfo()\n",
    "        number_of_pages = pdf.getNumPages()\n",
    "\n",
    "    txt = f\"\"\"\n",
    "    Information about {pdf_path}:\n",
    "\n",
    "   \n",
    "    Number of pages: {number_of_pages}\n",
    "    \"\"\"\n",
    "    print(txt)\n",
    "#     return information\n",
    "\n",
    "\n",
    "for i in list_of_pdf:\n",
    "    info(i)\n"
   ]
  },
  {
   "cell_type": "code",
   "execution_count": 26,
   "id": "piano-picking",
   "metadata": {},
   "outputs": [
    {
     "data": {
      "text/plain": [
       "'all.pdf'"
      ]
     },
     "execution_count": 26,
     "metadata": {},
     "output_type": "execute_result"
    }
   ],
   "source": [
    "list_of_pdf[0].split('/')[-1]"
   ]
  }
 ],
 "metadata": {
  "kernelspec": {
   "display_name": "Python 3",
   "language": "python",
   "name": "python3"
  },
  "language_info": {
   "codemirror_mode": {
    "name": "ipython",
    "version": 3
   },
   "file_extension": ".py",
   "mimetype": "text/x-python",
   "name": "python",
   "nbconvert_exporter": "python",
   "pygments_lexer": "ipython3",
   "version": "3.7.1"
  }
 },
 "nbformat": 4,
 "nbformat_minor": 5
}
